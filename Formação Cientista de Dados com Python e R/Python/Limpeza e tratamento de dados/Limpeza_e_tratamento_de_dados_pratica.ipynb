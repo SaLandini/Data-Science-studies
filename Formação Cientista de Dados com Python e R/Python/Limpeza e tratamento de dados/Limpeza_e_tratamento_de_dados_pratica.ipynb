{
 "cells": [
  {
   "cell_type": "markdown",
   "source": [
    "Importação das bibliotecas"
   ],
   "metadata": {
    "collapsed": false
   }
  },
  {
   "cell_type": "code",
   "execution_count": 71,
   "outputs": [],
   "source": [
    "import pandas as pd\n",
    "import seaborn as srn\n",
    "import statistics as sts"
   ],
   "metadata": {
    "collapsed": false,
    "pycharm": {
     "name": "#%%\n"
    }
   }
  },
  {
   "cell_type": "markdown",
   "source": [
    "importação dos dados"
   ],
   "metadata": {
    "collapsed": false
   }
  },
  {
   "cell_type": "code",
   "execution_count": 72,
   "outputs": [
    {
     "data": {
      "text/plain": "  Aparencia  Temperatura  Umidade       Vento Jogar\n0       sol           85     85.0       FALSO   nao\n1       sol           80     90.0  VERDADEIRO   nao\n2   nublado           83     86.0       FALSO   sim\n3     chuva           70      NaN       FALSO   sim\n4     chuva           68     80.0       FALSO   sim",
      "text/html": "<div>\n<style scoped>\n    .dataframe tbody tr th:only-of-type {\n        vertical-align: middle;\n    }\n\n    .dataframe tbody tr th {\n        vertical-align: top;\n    }\n\n    .dataframe thead th {\n        text-align: right;\n    }\n</style>\n<table border=\"1\" class=\"dataframe\">\n  <thead>\n    <tr style=\"text-align: right;\">\n      <th></th>\n      <th>Aparencia</th>\n      <th>Temperatura</th>\n      <th>Umidade</th>\n      <th>Vento</th>\n      <th>Jogar</th>\n    </tr>\n  </thead>\n  <tbody>\n    <tr>\n      <th>0</th>\n      <td>sol</td>\n      <td>85</td>\n      <td>85.0</td>\n      <td>FALSO</td>\n      <td>nao</td>\n    </tr>\n    <tr>\n      <th>1</th>\n      <td>sol</td>\n      <td>80</td>\n      <td>90.0</td>\n      <td>VERDADEIRO</td>\n      <td>nao</td>\n    </tr>\n    <tr>\n      <th>2</th>\n      <td>nublado</td>\n      <td>83</td>\n      <td>86.0</td>\n      <td>FALSO</td>\n      <td>sim</td>\n    </tr>\n    <tr>\n      <th>3</th>\n      <td>chuva</td>\n      <td>70</td>\n      <td>NaN</td>\n      <td>FALSO</td>\n      <td>sim</td>\n    </tr>\n    <tr>\n      <th>4</th>\n      <td>chuva</td>\n      <td>68</td>\n      <td>80.0</td>\n      <td>FALSO</td>\n      <td>sim</td>\n    </tr>\n  </tbody>\n</table>\n</div>"
     },
     "execution_count": 72,
     "metadata": {},
     "output_type": "execute_result"
    }
   ],
   "source": [
    "dataset = pd.read_csv(\"tempo.csv\", sep=\";\")\n",
    "# Visualizar\n",
    "dataset.head()"
   ],
   "metadata": {
    "collapsed": false,
    "pycharm": {
     "name": "#%%\n"
    }
   }
  },
  {
   "cell_type": "markdown",
   "source": [
    "Vendo dados"
   ],
   "metadata": {
    "collapsed": false,
    "pycharm": {
     "name": "#%% md\n"
    }
   }
  },
  {
   "cell_type": "code",
   "execution_count": 73,
   "outputs": [
    {
     "data": {
      "text/plain": "   Aparencia  Temperatura  Umidade       Vento Jogar\n0        sol           85     85.0       FALSO   nao\n1        sol           80     90.0  VERDADEIRO   nao\n2    nublado           83     86.0       FALSO   sim\n3      chuva           70      NaN       FALSO   sim\n4      chuva           68     80.0       FALSO   sim\n5      chuva           65     70.0  VERDADEIRO   nao\n6      menos           64     65.0  VERDADEIRO   sim\n7        sol         1220     95.0       FALSO   nao\n8        sol           69     70.0       FALSO   sim\n9      chuva           75    200.0         NaN   sim\n10       sol           75     70.0  VERDADEIRO   sim\n11   nublado           72     90.0  VERDADEIRO   sim\n12   nublado           81     75.0       FALSO   sim\n13     chuva           71     91.0  VERDADEIRO   nao",
      "text/html": "<div>\n<style scoped>\n    .dataframe tbody tr th:only-of-type {\n        vertical-align: middle;\n    }\n\n    .dataframe tbody tr th {\n        vertical-align: top;\n    }\n\n    .dataframe thead th {\n        text-align: right;\n    }\n</style>\n<table border=\"1\" class=\"dataframe\">\n  <thead>\n    <tr style=\"text-align: right;\">\n      <th></th>\n      <th>Aparencia</th>\n      <th>Temperatura</th>\n      <th>Umidade</th>\n      <th>Vento</th>\n      <th>Jogar</th>\n    </tr>\n  </thead>\n  <tbody>\n    <tr>\n      <th>0</th>\n      <td>sol</td>\n      <td>85</td>\n      <td>85.0</td>\n      <td>FALSO</td>\n      <td>nao</td>\n    </tr>\n    <tr>\n      <th>1</th>\n      <td>sol</td>\n      <td>80</td>\n      <td>90.0</td>\n      <td>VERDADEIRO</td>\n      <td>nao</td>\n    </tr>\n    <tr>\n      <th>2</th>\n      <td>nublado</td>\n      <td>83</td>\n      <td>86.0</td>\n      <td>FALSO</td>\n      <td>sim</td>\n    </tr>\n    <tr>\n      <th>3</th>\n      <td>chuva</td>\n      <td>70</td>\n      <td>NaN</td>\n      <td>FALSO</td>\n      <td>sim</td>\n    </tr>\n    <tr>\n      <th>4</th>\n      <td>chuva</td>\n      <td>68</td>\n      <td>80.0</td>\n      <td>FALSO</td>\n      <td>sim</td>\n    </tr>\n    <tr>\n      <th>5</th>\n      <td>chuva</td>\n      <td>65</td>\n      <td>70.0</td>\n      <td>VERDADEIRO</td>\n      <td>nao</td>\n    </tr>\n    <tr>\n      <th>6</th>\n      <td>menos</td>\n      <td>64</td>\n      <td>65.0</td>\n      <td>VERDADEIRO</td>\n      <td>sim</td>\n    </tr>\n    <tr>\n      <th>7</th>\n      <td>sol</td>\n      <td>1220</td>\n      <td>95.0</td>\n      <td>FALSO</td>\n      <td>nao</td>\n    </tr>\n    <tr>\n      <th>8</th>\n      <td>sol</td>\n      <td>69</td>\n      <td>70.0</td>\n      <td>FALSO</td>\n      <td>sim</td>\n    </tr>\n    <tr>\n      <th>9</th>\n      <td>chuva</td>\n      <td>75</td>\n      <td>200.0</td>\n      <td>NaN</td>\n      <td>sim</td>\n    </tr>\n    <tr>\n      <th>10</th>\n      <td>sol</td>\n      <td>75</td>\n      <td>70.0</td>\n      <td>VERDADEIRO</td>\n      <td>sim</td>\n    </tr>\n    <tr>\n      <th>11</th>\n      <td>nublado</td>\n      <td>72</td>\n      <td>90.0</td>\n      <td>VERDADEIRO</td>\n      <td>sim</td>\n    </tr>\n    <tr>\n      <th>12</th>\n      <td>nublado</td>\n      <td>81</td>\n      <td>75.0</td>\n      <td>FALSO</td>\n      <td>sim</td>\n    </tr>\n    <tr>\n      <th>13</th>\n      <td>chuva</td>\n      <td>71</td>\n      <td>91.0</td>\n      <td>VERDADEIRO</td>\n      <td>nao</td>\n    </tr>\n  </tbody>\n</table>\n</div>"
     },
     "execution_count": 73,
     "metadata": {},
     "output_type": "execute_result"
    }
   ],
   "source": [
    "dataset"
   ],
   "metadata": {
    "collapsed": false,
    "pycharm": {
     "name": "#%%\n"
    }
   }
  },
  {
   "cell_type": "markdown",
   "source": [
    "Tratando a coluna aparencia"
   ],
   "metadata": {
    "collapsed": false,
    "pycharm": {
     "name": "#%% md\n"
    }
   }
  },
  {
   "cell_type": "code",
   "execution_count": 74,
   "outputs": [
    {
     "data": {
      "text/plain": "  Aparencia  Temperatura  Umidade       Vento Jogar\n6     menos           64     65.0  VERDADEIRO   sim",
      "text/html": "<div>\n<style scoped>\n    .dataframe tbody tr th:only-of-type {\n        vertical-align: middle;\n    }\n\n    .dataframe tbody tr th {\n        vertical-align: top;\n    }\n\n    .dataframe thead th {\n        text-align: right;\n    }\n</style>\n<table border=\"1\" class=\"dataframe\">\n  <thead>\n    <tr style=\"text-align: right;\">\n      <th></th>\n      <th>Aparencia</th>\n      <th>Temperatura</th>\n      <th>Umidade</th>\n      <th>Vento</th>\n      <th>Jogar</th>\n    </tr>\n  </thead>\n  <tbody>\n    <tr>\n      <th>6</th>\n      <td>menos</td>\n      <td>64</td>\n      <td>65.0</td>\n      <td>VERDADEIRO</td>\n      <td>sim</td>\n    </tr>\n  </tbody>\n</table>\n</div>"
     },
     "execution_count": 74,
     "metadata": {},
     "output_type": "execute_result"
    }
   ],
   "source": [
    "tupla = [\"menos\"]\n",
    "dataset.loc[dataset['Aparencia'].isin(tupla)]"
   ],
   "metadata": {
    "collapsed": false,
    "pycharm": {
     "name": "#%%\n"
    }
   }
  },
  {
   "cell_type": "code",
   "execution_count": 75,
   "outputs": [
    {
     "data": {
      "text/plain": "   Aparencia  Temperatura  Umidade       Vento Jogar\n0        sol           85     85.0       FALSO   nao\n1        sol           80     90.0  VERDADEIRO   nao\n2    nublado           83     86.0       FALSO   sim\n3      chuva           70      NaN       FALSO   sim\n4      chuva           68     80.0       FALSO   sim\n5      chuva           65     70.0  VERDADEIRO   nao\n6        sol           64     65.0  VERDADEIRO   sim\n7        sol         1220     95.0       FALSO   nao\n8        sol           69     70.0       FALSO   sim\n9      chuva           75    200.0         NaN   sim\n10       sol           75     70.0  VERDADEIRO   sim\n11   nublado           72     90.0  VERDADEIRO   sim\n12   nublado           81     75.0       FALSO   sim\n13     chuva           71     91.0  VERDADEIRO   nao",
      "text/html": "<div>\n<style scoped>\n    .dataframe tbody tr th:only-of-type {\n        vertical-align: middle;\n    }\n\n    .dataframe tbody tr th {\n        vertical-align: top;\n    }\n\n    .dataframe thead th {\n        text-align: right;\n    }\n</style>\n<table border=\"1\" class=\"dataframe\">\n  <thead>\n    <tr style=\"text-align: right;\">\n      <th></th>\n      <th>Aparencia</th>\n      <th>Temperatura</th>\n      <th>Umidade</th>\n      <th>Vento</th>\n      <th>Jogar</th>\n    </tr>\n  </thead>\n  <tbody>\n    <tr>\n      <th>0</th>\n      <td>sol</td>\n      <td>85</td>\n      <td>85.0</td>\n      <td>FALSO</td>\n      <td>nao</td>\n    </tr>\n    <tr>\n      <th>1</th>\n      <td>sol</td>\n      <td>80</td>\n      <td>90.0</td>\n      <td>VERDADEIRO</td>\n      <td>nao</td>\n    </tr>\n    <tr>\n      <th>2</th>\n      <td>nublado</td>\n      <td>83</td>\n      <td>86.0</td>\n      <td>FALSO</td>\n      <td>sim</td>\n    </tr>\n    <tr>\n      <th>3</th>\n      <td>chuva</td>\n      <td>70</td>\n      <td>NaN</td>\n      <td>FALSO</td>\n      <td>sim</td>\n    </tr>\n    <tr>\n      <th>4</th>\n      <td>chuva</td>\n      <td>68</td>\n      <td>80.0</td>\n      <td>FALSO</td>\n      <td>sim</td>\n    </tr>\n    <tr>\n      <th>5</th>\n      <td>chuva</td>\n      <td>65</td>\n      <td>70.0</td>\n      <td>VERDADEIRO</td>\n      <td>nao</td>\n    </tr>\n    <tr>\n      <th>6</th>\n      <td>sol</td>\n      <td>64</td>\n      <td>65.0</td>\n      <td>VERDADEIRO</td>\n      <td>sim</td>\n    </tr>\n    <tr>\n      <th>7</th>\n      <td>sol</td>\n      <td>1220</td>\n      <td>95.0</td>\n      <td>FALSO</td>\n      <td>nao</td>\n    </tr>\n    <tr>\n      <th>8</th>\n      <td>sol</td>\n      <td>69</td>\n      <td>70.0</td>\n      <td>FALSO</td>\n      <td>sim</td>\n    </tr>\n    <tr>\n      <th>9</th>\n      <td>chuva</td>\n      <td>75</td>\n      <td>200.0</td>\n      <td>NaN</td>\n      <td>sim</td>\n    </tr>\n    <tr>\n      <th>10</th>\n      <td>sol</td>\n      <td>75</td>\n      <td>70.0</td>\n      <td>VERDADEIRO</td>\n      <td>sim</td>\n    </tr>\n    <tr>\n      <th>11</th>\n      <td>nublado</td>\n      <td>72</td>\n      <td>90.0</td>\n      <td>VERDADEIRO</td>\n      <td>sim</td>\n    </tr>\n    <tr>\n      <th>12</th>\n      <td>nublado</td>\n      <td>81</td>\n      <td>75.0</td>\n      <td>FALSO</td>\n      <td>sim</td>\n    </tr>\n    <tr>\n      <th>13</th>\n      <td>chuva</td>\n      <td>71</td>\n      <td>91.0</td>\n      <td>VERDADEIRO</td>\n      <td>nao</td>\n    </tr>\n  </tbody>\n</table>\n</div>"
     },
     "execution_count": 75,
     "metadata": {},
     "output_type": "execute_result"
    }
   ],
   "source": [
    "dataset.loc[dataset['Aparencia'].isin(tupla), 'Aparencia'] = \"sol\"\n",
    "dataset"
   ],
   "metadata": {
    "collapsed": false,
    "pycharm": {
     "name": "#%%\n"
    }
   }
  },
  {
   "cell_type": "markdown",
   "source": [
    "Tratando a temperatura"
   ],
   "metadata": {
    "collapsed": false,
    "pycharm": {
     "name": "#%% md\n"
    }
   }
  },
  {
   "cell_type": "code",
   "execution_count": 76,
   "outputs": [
    {
     "data": {
      "text/plain": "73.5"
     },
     "execution_count": 76,
     "metadata": {},
     "output_type": "execute_result"
    }
   ],
   "source": [
    "mediana = sts.median(dataset['Temperatura'])\n",
    "mediana"
   ],
   "metadata": {
    "collapsed": false,
    "pycharm": {
     "name": "#%%\n"
    }
   }
  },
  {
   "cell_type": "code",
   "execution_count": 77,
   "outputs": [
    {
     "data": {
      "text/plain": "   Aparencia  Temperatura  Umidade       Vento Jogar\n0        sol         85.0     85.0       FALSO   nao\n1        sol         80.0     90.0  VERDADEIRO   nao\n2    nublado         83.0     86.0       FALSO   sim\n3      chuva         70.0      NaN       FALSO   sim\n4      chuva         68.0     80.0       FALSO   sim\n5      chuva         65.0     70.0  VERDADEIRO   nao\n6        sol         64.0     65.0  VERDADEIRO   sim\n7        sol         73.5     95.0       FALSO   nao\n8        sol         69.0     70.0       FALSO   sim\n9      chuva         75.0    200.0         NaN   sim\n10       sol         75.0     70.0  VERDADEIRO   sim\n11   nublado         72.0     90.0  VERDADEIRO   sim\n12   nublado         81.0     75.0       FALSO   sim\n13     chuva         71.0     91.0  VERDADEIRO   nao",
      "text/html": "<div>\n<style scoped>\n    .dataframe tbody tr th:only-of-type {\n        vertical-align: middle;\n    }\n\n    .dataframe tbody tr th {\n        vertical-align: top;\n    }\n\n    .dataframe thead th {\n        text-align: right;\n    }\n</style>\n<table border=\"1\" class=\"dataframe\">\n  <thead>\n    <tr style=\"text-align: right;\">\n      <th></th>\n      <th>Aparencia</th>\n      <th>Temperatura</th>\n      <th>Umidade</th>\n      <th>Vento</th>\n      <th>Jogar</th>\n    </tr>\n  </thead>\n  <tbody>\n    <tr>\n      <th>0</th>\n      <td>sol</td>\n      <td>85.0</td>\n      <td>85.0</td>\n      <td>FALSO</td>\n      <td>nao</td>\n    </tr>\n    <tr>\n      <th>1</th>\n      <td>sol</td>\n      <td>80.0</td>\n      <td>90.0</td>\n      <td>VERDADEIRO</td>\n      <td>nao</td>\n    </tr>\n    <tr>\n      <th>2</th>\n      <td>nublado</td>\n      <td>83.0</td>\n      <td>86.0</td>\n      <td>FALSO</td>\n      <td>sim</td>\n    </tr>\n    <tr>\n      <th>3</th>\n      <td>chuva</td>\n      <td>70.0</td>\n      <td>NaN</td>\n      <td>FALSO</td>\n      <td>sim</td>\n    </tr>\n    <tr>\n      <th>4</th>\n      <td>chuva</td>\n      <td>68.0</td>\n      <td>80.0</td>\n      <td>FALSO</td>\n      <td>sim</td>\n    </tr>\n    <tr>\n      <th>5</th>\n      <td>chuva</td>\n      <td>65.0</td>\n      <td>70.0</td>\n      <td>VERDADEIRO</td>\n      <td>nao</td>\n    </tr>\n    <tr>\n      <th>6</th>\n      <td>sol</td>\n      <td>64.0</td>\n      <td>65.0</td>\n      <td>VERDADEIRO</td>\n      <td>sim</td>\n    </tr>\n    <tr>\n      <th>7</th>\n      <td>sol</td>\n      <td>73.5</td>\n      <td>95.0</td>\n      <td>FALSO</td>\n      <td>nao</td>\n    </tr>\n    <tr>\n      <th>8</th>\n      <td>sol</td>\n      <td>69.0</td>\n      <td>70.0</td>\n      <td>FALSO</td>\n      <td>sim</td>\n    </tr>\n    <tr>\n      <th>9</th>\n      <td>chuva</td>\n      <td>75.0</td>\n      <td>200.0</td>\n      <td>NaN</td>\n      <td>sim</td>\n    </tr>\n    <tr>\n      <th>10</th>\n      <td>sol</td>\n      <td>75.0</td>\n      <td>70.0</td>\n      <td>VERDADEIRO</td>\n      <td>sim</td>\n    </tr>\n    <tr>\n      <th>11</th>\n      <td>nublado</td>\n      <td>72.0</td>\n      <td>90.0</td>\n      <td>VERDADEIRO</td>\n      <td>sim</td>\n    </tr>\n    <tr>\n      <th>12</th>\n      <td>nublado</td>\n      <td>81.0</td>\n      <td>75.0</td>\n      <td>FALSO</td>\n      <td>sim</td>\n    </tr>\n    <tr>\n      <th>13</th>\n      <td>chuva</td>\n      <td>71.0</td>\n      <td>91.0</td>\n      <td>VERDADEIRO</td>\n      <td>nao</td>\n    </tr>\n  </tbody>\n</table>\n</div>"
     },
     "execution_count": 77,
     "metadata": {},
     "output_type": "execute_result"
    }
   ],
   "source": [
    "dataset.loc[dataset['Temperatura'] > 105, 'Temperatura'] = mediana\n",
    "dataset"
   ],
   "metadata": {
    "collapsed": false,
    "pycharm": {
     "name": "#%%\n"
    }
   }
  },
  {
   "cell_type": "markdown",
   "source": [
    "Tratando a Umidade"
   ],
   "metadata": {
    "collapsed": false,
    "pycharm": {
     "name": "#%% md\n"
    }
   }
  },
  {
   "cell_type": "code",
   "execution_count": 78,
   "outputs": [
    {
     "data": {
      "text/plain": "85.5"
     },
     "execution_count": 78,
     "metadata": {},
     "output_type": "execute_result"
    }
   ],
   "source": [
    "#mediana\n",
    "mediana = sts.median(dataset['Umidade'])\n",
    "mediana"
   ],
   "metadata": {
    "collapsed": false,
    "pycharm": {
     "name": "#%%\n"
    }
   }
  },
  {
   "cell_type": "code",
   "execution_count": 79,
   "outputs": [
    {
     "data": {
      "text/plain": "   Aparencia  Temperatura  Umidade       Vento Jogar\n0        sol         85.0     85.0       FALSO   nao\n1        sol         80.0     90.0  VERDADEIRO   nao\n2    nublado         83.0     86.0       FALSO   sim\n3      chuva         70.0      NaN       FALSO   sim\n4      chuva         68.0     80.0       FALSO   sim\n5      chuva         65.0     70.0  VERDADEIRO   nao\n6        sol         64.0     65.0  VERDADEIRO   sim\n7        sol         73.5     95.0       FALSO   nao\n8        sol         69.0     70.0       FALSO   sim\n9      chuva         75.0     85.5         NaN   sim\n10       sol         75.0     70.0  VERDADEIRO   sim\n11   nublado         72.0     90.0  VERDADEIRO   sim\n12   nublado         81.0     75.0       FALSO   sim\n13     chuva         71.0     91.0  VERDADEIRO   nao",
      "text/html": "<div>\n<style scoped>\n    .dataframe tbody tr th:only-of-type {\n        vertical-align: middle;\n    }\n\n    .dataframe tbody tr th {\n        vertical-align: top;\n    }\n\n    .dataframe thead th {\n        text-align: right;\n    }\n</style>\n<table border=\"1\" class=\"dataframe\">\n  <thead>\n    <tr style=\"text-align: right;\">\n      <th></th>\n      <th>Aparencia</th>\n      <th>Temperatura</th>\n      <th>Umidade</th>\n      <th>Vento</th>\n      <th>Jogar</th>\n    </tr>\n  </thead>\n  <tbody>\n    <tr>\n      <th>0</th>\n      <td>sol</td>\n      <td>85.0</td>\n      <td>85.0</td>\n      <td>FALSO</td>\n      <td>nao</td>\n    </tr>\n    <tr>\n      <th>1</th>\n      <td>sol</td>\n      <td>80.0</td>\n      <td>90.0</td>\n      <td>VERDADEIRO</td>\n      <td>nao</td>\n    </tr>\n    <tr>\n      <th>2</th>\n      <td>nublado</td>\n      <td>83.0</td>\n      <td>86.0</td>\n      <td>FALSO</td>\n      <td>sim</td>\n    </tr>\n    <tr>\n      <th>3</th>\n      <td>chuva</td>\n      <td>70.0</td>\n      <td>NaN</td>\n      <td>FALSO</td>\n      <td>sim</td>\n    </tr>\n    <tr>\n      <th>4</th>\n      <td>chuva</td>\n      <td>68.0</td>\n      <td>80.0</td>\n      <td>FALSO</td>\n      <td>sim</td>\n    </tr>\n    <tr>\n      <th>5</th>\n      <td>chuva</td>\n      <td>65.0</td>\n      <td>70.0</td>\n      <td>VERDADEIRO</td>\n      <td>nao</td>\n    </tr>\n    <tr>\n      <th>6</th>\n      <td>sol</td>\n      <td>64.0</td>\n      <td>65.0</td>\n      <td>VERDADEIRO</td>\n      <td>sim</td>\n    </tr>\n    <tr>\n      <th>7</th>\n      <td>sol</td>\n      <td>73.5</td>\n      <td>95.0</td>\n      <td>FALSO</td>\n      <td>nao</td>\n    </tr>\n    <tr>\n      <th>8</th>\n      <td>sol</td>\n      <td>69.0</td>\n      <td>70.0</td>\n      <td>FALSO</td>\n      <td>sim</td>\n    </tr>\n    <tr>\n      <th>9</th>\n      <td>chuva</td>\n      <td>75.0</td>\n      <td>85.5</td>\n      <td>NaN</td>\n      <td>sim</td>\n    </tr>\n    <tr>\n      <th>10</th>\n      <td>sol</td>\n      <td>75.0</td>\n      <td>70.0</td>\n      <td>VERDADEIRO</td>\n      <td>sim</td>\n    </tr>\n    <tr>\n      <th>11</th>\n      <td>nublado</td>\n      <td>72.0</td>\n      <td>90.0</td>\n      <td>VERDADEIRO</td>\n      <td>sim</td>\n    </tr>\n    <tr>\n      <th>12</th>\n      <td>nublado</td>\n      <td>81.0</td>\n      <td>75.0</td>\n      <td>FALSO</td>\n      <td>sim</td>\n    </tr>\n    <tr>\n      <th>13</th>\n      <td>chuva</td>\n      <td>71.0</td>\n      <td>91.0</td>\n      <td>VERDADEIRO</td>\n      <td>nao</td>\n    </tr>\n  </tbody>\n</table>\n</div>"
     },
     "execution_count": 79,
     "metadata": {},
     "output_type": "execute_result"
    }
   ],
   "source": [
    "# maior que 100%\n",
    "dataset.loc[dataset['Umidade'] > 100, 'Umidade'] = mediana\n",
    "dataset"
   ],
   "metadata": {
    "collapsed": false,
    "pycharm": {
     "name": "#%%\n"
    }
   }
  },
  {
   "cell_type": "code",
   "execution_count": 80,
   "outputs": [
    {
     "data": {
      "text/plain": "   Aparencia  Temperatura  Umidade       Vento Jogar\n0        sol         85.0     85.0       FALSO   nao\n1        sol         80.0     90.0  VERDADEIRO   nao\n2    nublado         83.0     86.0       FALSO   sim\n3      chuva         70.0     85.5       FALSO   sim\n4      chuva         68.0     80.0       FALSO   sim\n5      chuva         65.0     70.0  VERDADEIRO   nao\n6        sol         64.0     65.0  VERDADEIRO   sim\n7        sol         73.5     95.0       FALSO   nao\n8        sol         69.0     70.0       FALSO   sim\n9      chuva         75.0     85.5         NaN   sim\n10       sol         75.0     70.0  VERDADEIRO   sim\n11   nublado         72.0     90.0  VERDADEIRO   sim\n12   nublado         81.0     75.0       FALSO   sim\n13     chuva         71.0     91.0  VERDADEIRO   nao",
      "text/html": "<div>\n<style scoped>\n    .dataframe tbody tr th:only-of-type {\n        vertical-align: middle;\n    }\n\n    .dataframe tbody tr th {\n        vertical-align: top;\n    }\n\n    .dataframe thead th {\n        text-align: right;\n    }\n</style>\n<table border=\"1\" class=\"dataframe\">\n  <thead>\n    <tr style=\"text-align: right;\">\n      <th></th>\n      <th>Aparencia</th>\n      <th>Temperatura</th>\n      <th>Umidade</th>\n      <th>Vento</th>\n      <th>Jogar</th>\n    </tr>\n  </thead>\n  <tbody>\n    <tr>\n      <th>0</th>\n      <td>sol</td>\n      <td>85.0</td>\n      <td>85.0</td>\n      <td>FALSO</td>\n      <td>nao</td>\n    </tr>\n    <tr>\n      <th>1</th>\n      <td>sol</td>\n      <td>80.0</td>\n      <td>90.0</td>\n      <td>VERDADEIRO</td>\n      <td>nao</td>\n    </tr>\n    <tr>\n      <th>2</th>\n      <td>nublado</td>\n      <td>83.0</td>\n      <td>86.0</td>\n      <td>FALSO</td>\n      <td>sim</td>\n    </tr>\n    <tr>\n      <th>3</th>\n      <td>chuva</td>\n      <td>70.0</td>\n      <td>85.5</td>\n      <td>FALSO</td>\n      <td>sim</td>\n    </tr>\n    <tr>\n      <th>4</th>\n      <td>chuva</td>\n      <td>68.0</td>\n      <td>80.0</td>\n      <td>FALSO</td>\n      <td>sim</td>\n    </tr>\n    <tr>\n      <th>5</th>\n      <td>chuva</td>\n      <td>65.0</td>\n      <td>70.0</td>\n      <td>VERDADEIRO</td>\n      <td>nao</td>\n    </tr>\n    <tr>\n      <th>6</th>\n      <td>sol</td>\n      <td>64.0</td>\n      <td>65.0</td>\n      <td>VERDADEIRO</td>\n      <td>sim</td>\n    </tr>\n    <tr>\n      <th>7</th>\n      <td>sol</td>\n      <td>73.5</td>\n      <td>95.0</td>\n      <td>FALSO</td>\n      <td>nao</td>\n    </tr>\n    <tr>\n      <th>8</th>\n      <td>sol</td>\n      <td>69.0</td>\n      <td>70.0</td>\n      <td>FALSO</td>\n      <td>sim</td>\n    </tr>\n    <tr>\n      <th>9</th>\n      <td>chuva</td>\n      <td>75.0</td>\n      <td>85.5</td>\n      <td>NaN</td>\n      <td>sim</td>\n    </tr>\n    <tr>\n      <th>10</th>\n      <td>sol</td>\n      <td>75.0</td>\n      <td>70.0</td>\n      <td>VERDADEIRO</td>\n      <td>sim</td>\n    </tr>\n    <tr>\n      <th>11</th>\n      <td>nublado</td>\n      <td>72.0</td>\n      <td>90.0</td>\n      <td>VERDADEIRO</td>\n      <td>sim</td>\n    </tr>\n    <tr>\n      <th>12</th>\n      <td>nublado</td>\n      <td>81.0</td>\n      <td>75.0</td>\n      <td>FALSO</td>\n      <td>sim</td>\n    </tr>\n    <tr>\n      <th>13</th>\n      <td>chuva</td>\n      <td>71.0</td>\n      <td>91.0</td>\n      <td>VERDADEIRO</td>\n      <td>nao</td>\n    </tr>\n  </tbody>\n</table>\n</div>"
     },
     "execution_count": 80,
     "metadata": {},
     "output_type": "execute_result"
    }
   ],
   "source": [
    "dataset.loc[dataset['Umidade'].isnull(), 'Umidade'] = mediana\n",
    "dataset"
   ],
   "metadata": {
    "collapsed": false,
    "pycharm": {
     "name": "#%%\n"
    }
   }
  },
  {
   "cell_type": "markdown",
   "source": [
    "Tratando o vento"
   ],
   "metadata": {
    "collapsed": false,
    "pycharm": {
     "name": "#%% md\n"
    }
   }
  },
  {
   "cell_type": "code",
   "execution_count": 83,
   "outputs": [
    {
     "data": {
      "text/plain": "   Aparencia  Temperatura  Umidade       Vento Jogar\n0        sol         85.0     85.0       FALSO   nao\n1        sol         80.0     90.0  VERDADEIRO   nao\n2    nublado         83.0     86.0       FALSO   sim\n3      chuva         70.0     85.5       FALSO   sim\n4      chuva         68.0     80.0       FALSO   sim\n5      chuva         65.0     70.0  VERDADEIRO   nao\n6        sol         64.0     65.0  VERDADEIRO   sim\n7        sol         73.5     95.0       FALSO   nao\n8        sol         69.0     70.0       FALSO   sim\n9      chuva         75.0     85.5       FALSO   sim\n10       sol         75.0     70.0  VERDADEIRO   sim\n11   nublado         72.0     90.0  VERDADEIRO   sim\n12   nublado         81.0     75.0       FALSO   sim\n13     chuva         71.0     91.0  VERDADEIRO   nao",
      "text/html": "<div>\n<style scoped>\n    .dataframe tbody tr th:only-of-type {\n        vertical-align: middle;\n    }\n\n    .dataframe tbody tr th {\n        vertical-align: top;\n    }\n\n    .dataframe thead th {\n        text-align: right;\n    }\n</style>\n<table border=\"1\" class=\"dataframe\">\n  <thead>\n    <tr style=\"text-align: right;\">\n      <th></th>\n      <th>Aparencia</th>\n      <th>Temperatura</th>\n      <th>Umidade</th>\n      <th>Vento</th>\n      <th>Jogar</th>\n    </tr>\n  </thead>\n  <tbody>\n    <tr>\n      <th>0</th>\n      <td>sol</td>\n      <td>85.0</td>\n      <td>85.0</td>\n      <td>FALSO</td>\n      <td>nao</td>\n    </tr>\n    <tr>\n      <th>1</th>\n      <td>sol</td>\n      <td>80.0</td>\n      <td>90.0</td>\n      <td>VERDADEIRO</td>\n      <td>nao</td>\n    </tr>\n    <tr>\n      <th>2</th>\n      <td>nublado</td>\n      <td>83.0</td>\n      <td>86.0</td>\n      <td>FALSO</td>\n      <td>sim</td>\n    </tr>\n    <tr>\n      <th>3</th>\n      <td>chuva</td>\n      <td>70.0</td>\n      <td>85.5</td>\n      <td>FALSO</td>\n      <td>sim</td>\n    </tr>\n    <tr>\n      <th>4</th>\n      <td>chuva</td>\n      <td>68.0</td>\n      <td>80.0</td>\n      <td>FALSO</td>\n      <td>sim</td>\n    </tr>\n    <tr>\n      <th>5</th>\n      <td>chuva</td>\n      <td>65.0</td>\n      <td>70.0</td>\n      <td>VERDADEIRO</td>\n      <td>nao</td>\n    </tr>\n    <tr>\n      <th>6</th>\n      <td>sol</td>\n      <td>64.0</td>\n      <td>65.0</td>\n      <td>VERDADEIRO</td>\n      <td>sim</td>\n    </tr>\n    <tr>\n      <th>7</th>\n      <td>sol</td>\n      <td>73.5</td>\n      <td>95.0</td>\n      <td>FALSO</td>\n      <td>nao</td>\n    </tr>\n    <tr>\n      <th>8</th>\n      <td>sol</td>\n      <td>69.0</td>\n      <td>70.0</td>\n      <td>FALSO</td>\n      <td>sim</td>\n    </tr>\n    <tr>\n      <th>9</th>\n      <td>chuva</td>\n      <td>75.0</td>\n      <td>85.5</td>\n      <td>FALSO</td>\n      <td>sim</td>\n    </tr>\n    <tr>\n      <th>10</th>\n      <td>sol</td>\n      <td>75.0</td>\n      <td>70.0</td>\n      <td>VERDADEIRO</td>\n      <td>sim</td>\n    </tr>\n    <tr>\n      <th>11</th>\n      <td>nublado</td>\n      <td>72.0</td>\n      <td>90.0</td>\n      <td>VERDADEIRO</td>\n      <td>sim</td>\n    </tr>\n    <tr>\n      <th>12</th>\n      <td>nublado</td>\n      <td>81.0</td>\n      <td>75.0</td>\n      <td>FALSO</td>\n      <td>sim</td>\n    </tr>\n    <tr>\n      <th>13</th>\n      <td>chuva</td>\n      <td>71.0</td>\n      <td>91.0</td>\n      <td>VERDADEIRO</td>\n      <td>nao</td>\n    </tr>\n  </tbody>\n</table>\n</div>"
     },
     "execution_count": 83,
     "metadata": {},
     "output_type": "execute_result"
    }
   ],
   "source": [
    "# tratando os NaN com a moda (Falso)\n",
    "dataset.loc[dataset['Vento'].isnull(), 'Vento'] = \"FALSO\"\n",
    "dataset"
   ],
   "metadata": {
    "collapsed": false,
    "pycharm": {
     "name": "#%%\n"
    }
   }
  },
  {
   "cell_type": "markdown",
   "source": [
    "Tratando o Jogar"
   ],
   "metadata": {
    "collapsed": false,
    "pycharm": {
     "name": "#%% md\n"
    }
   }
  },
  {
   "cell_type": "code",
   "execution_count": 88,
   "outputs": [
    {
     "data": {
      "text/plain": "   Aparencia  Temperatura  Umidade       Vento Jogar\n0        sol         85.0     85.0       FALSO   nao\n1        sol         80.0     90.0  VERDADEIRO   nao\n2    nublado         83.0     86.0       FALSO   sim\n3      chuva         70.0     85.5       FALSO   nao\n4      chuva         68.0     80.0       FALSO   nao\n5      chuva         65.0     70.0  VERDADEIRO   nao\n6        sol         64.0     65.0  VERDADEIRO   sim\n7        sol         73.5     95.0       FALSO   nao\n8        sol         69.0     70.0       FALSO   sim\n9      chuva         75.0     85.5       FALSO   nao\n10       sol         75.0     70.0  VERDADEIRO   sim\n11   nublado         72.0     90.0  VERDADEIRO   sim\n12   nublado         81.0     75.0       FALSO   sim\n13     chuva         71.0     91.0  VERDADEIRO   nao",
      "text/html": "<div>\n<style scoped>\n    .dataframe tbody tr th:only-of-type {\n        vertical-align: middle;\n    }\n\n    .dataframe tbody tr th {\n        vertical-align: top;\n    }\n\n    .dataframe thead th {\n        text-align: right;\n    }\n</style>\n<table border=\"1\" class=\"dataframe\">\n  <thead>\n    <tr style=\"text-align: right;\">\n      <th></th>\n      <th>Aparencia</th>\n      <th>Temperatura</th>\n      <th>Umidade</th>\n      <th>Vento</th>\n      <th>Jogar</th>\n    </tr>\n  </thead>\n  <tbody>\n    <tr>\n      <th>0</th>\n      <td>sol</td>\n      <td>85.0</td>\n      <td>85.0</td>\n      <td>FALSO</td>\n      <td>nao</td>\n    </tr>\n    <tr>\n      <th>1</th>\n      <td>sol</td>\n      <td>80.0</td>\n      <td>90.0</td>\n      <td>VERDADEIRO</td>\n      <td>nao</td>\n    </tr>\n    <tr>\n      <th>2</th>\n      <td>nublado</td>\n      <td>83.0</td>\n      <td>86.0</td>\n      <td>FALSO</td>\n      <td>sim</td>\n    </tr>\n    <tr>\n      <th>3</th>\n      <td>chuva</td>\n      <td>70.0</td>\n      <td>85.5</td>\n      <td>FALSO</td>\n      <td>nao</td>\n    </tr>\n    <tr>\n      <th>4</th>\n      <td>chuva</td>\n      <td>68.0</td>\n      <td>80.0</td>\n      <td>FALSO</td>\n      <td>nao</td>\n    </tr>\n    <tr>\n      <th>5</th>\n      <td>chuva</td>\n      <td>65.0</td>\n      <td>70.0</td>\n      <td>VERDADEIRO</td>\n      <td>nao</td>\n    </tr>\n    <tr>\n      <th>6</th>\n      <td>sol</td>\n      <td>64.0</td>\n      <td>65.0</td>\n      <td>VERDADEIRO</td>\n      <td>sim</td>\n    </tr>\n    <tr>\n      <th>7</th>\n      <td>sol</td>\n      <td>73.5</td>\n      <td>95.0</td>\n      <td>FALSO</td>\n      <td>nao</td>\n    </tr>\n    <tr>\n      <th>8</th>\n      <td>sol</td>\n      <td>69.0</td>\n      <td>70.0</td>\n      <td>FALSO</td>\n      <td>sim</td>\n    </tr>\n    <tr>\n      <th>9</th>\n      <td>chuva</td>\n      <td>75.0</td>\n      <td>85.5</td>\n      <td>FALSO</td>\n      <td>nao</td>\n    </tr>\n    <tr>\n      <th>10</th>\n      <td>sol</td>\n      <td>75.0</td>\n      <td>70.0</td>\n      <td>VERDADEIRO</td>\n      <td>sim</td>\n    </tr>\n    <tr>\n      <th>11</th>\n      <td>nublado</td>\n      <td>72.0</td>\n      <td>90.0</td>\n      <td>VERDADEIRO</td>\n      <td>sim</td>\n    </tr>\n    <tr>\n      <th>12</th>\n      <td>nublado</td>\n      <td>81.0</td>\n      <td>75.0</td>\n      <td>FALSO</td>\n      <td>sim</td>\n    </tr>\n    <tr>\n      <th>13</th>\n      <td>chuva</td>\n      <td>71.0</td>\n      <td>91.0</td>\n      <td>VERDADEIRO</td>\n      <td>nao</td>\n    </tr>\n  </tbody>\n</table>\n</div>"
     },
     "execution_count": 88,
     "metadata": {},
     "output_type": "execute_result"
    }
   ],
   "source": [
    "lista = [\"chuva\"]\n",
    "dataset.loc[dataset['Aparencia'].isin(lista), 'Jogar'] = \"nao\"\n",
    "dataset"
   ],
   "metadata": {
    "collapsed": false,
    "pycharm": {
     "name": "#%%\n"
    }
   }
  }
 ],
 "metadata": {
  "kernelspec": {
   "display_name": "Python 3",
   "language": "python",
   "name": "python3"
  },
  "language_info": {
   "codemirror_mode": {
    "name": "ipython",
    "version": 2
   },
   "file_extension": ".py",
   "mimetype": "text/x-python",
   "name": "python",
   "nbconvert_exporter": "python",
   "pygments_lexer": "ipython2",
   "version": "2.7.6"
  }
 },
 "nbformat": 4,
 "nbformat_minor": 0
}