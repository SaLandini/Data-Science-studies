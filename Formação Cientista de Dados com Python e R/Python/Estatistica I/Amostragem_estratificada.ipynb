{
 "cells": [
  {
   "cell_type": "code",
   "execution_count": 1,
   "metadata": {
    "collapsed": true
   },
   "outputs": [],
   "source": [
    "import pandas as pd\n",
    "from sklearn.model_selection import train_test_split"
   ]
  },
  {
   "cell_type": "code",
   "execution_count": 2,
   "outputs": [
    {
     "data": {
      "text/plain": "Iris-virginica     50\nIris-versicolor    50\nIris-setosa        50\nName: class, dtype: int64"
     },
     "execution_count": 2,
     "metadata": {},
     "output_type": "execute_result"
    }
   ],
   "source": [
    "iris = pd.read_csv('../../Arquivos/iris.csv')\n",
    "iris['class'].value_counts()"
   ],
   "metadata": {
    "collapsed": false,
    "pycharm": {
     "name": "#%%\n"
    }
   }
  },
  {
   "cell_type": "code",
   "execution_count": 5,
   "outputs": [
    {
     "data": {
      "text/plain": "Iris-virginica     25\nIris-versicolor    25\nIris-setosa        25\nName: class, dtype: int64"
     },
     "execution_count": 5,
     "metadata": {},
     "output_type": "execute_result"
    }
   ],
   "source": [
    "x, _, y, _ = train_test_split(iris.iloc[:,0:4], iris.iloc[:, 4],\n",
    "                              test_size= 0.5, stratify=iris.iloc[:,4])\n",
    "y.value_counts()\n"
   ],
   "metadata": {
    "collapsed": false,
    "pycharm": {
     "name": "#%%\n"
    }
   }
  },
  {
   "cell_type": "code",
   "execution_count": 6,
   "outputs": [
    {
     "data": {
      "text/plain": "     Unnamed: 0 education  age  parity  induced  case  spontaneous  stratum  \\\n0             1    0-5yrs   26       6        1     1            2        1   \n1             2    0-5yrs   42       1        1     1            0        2   \n2             3    0-5yrs   39       6        2     1            0        3   \n3             4    0-5yrs   34       4        2     1            0        4   \n4             5   6-11yrs   35       3        1     1            1        5   \n..          ...       ...  ...     ...      ...   ...          ...      ...   \n243         244   12+ yrs   31       1        0     0            1       79   \n244         245   12+ yrs   34       1        0     0            0       80   \n245         246   12+ yrs   35       2        2     0            0       81   \n246         247   12+ yrs   29       1        0     0            1       82   \n247         248   12+ yrs   23       1        0     0            1       83   \n\n     pooled.stratum  \n0                 3  \n1                 1  \n2                 4  \n3                 2  \n4                32  \n..              ...  \n243              45  \n244              47  \n245              54  \n246              43  \n247              40  \n\n[248 rows x 9 columns]",
      "text/html": "<div>\n<style scoped>\n    .dataframe tbody tr th:only-of-type {\n        vertical-align: middle;\n    }\n\n    .dataframe tbody tr th {\n        vertical-align: top;\n    }\n\n    .dataframe thead th {\n        text-align: right;\n    }\n</style>\n<table border=\"1\" class=\"dataframe\">\n  <thead>\n    <tr style=\"text-align: right;\">\n      <th></th>\n      <th>Unnamed: 0</th>\n      <th>education</th>\n      <th>age</th>\n      <th>parity</th>\n      <th>induced</th>\n      <th>case</th>\n      <th>spontaneous</th>\n      <th>stratum</th>\n      <th>pooled.stratum</th>\n    </tr>\n  </thead>\n  <tbody>\n    <tr>\n      <th>0</th>\n      <td>1</td>\n      <td>0-5yrs</td>\n      <td>26</td>\n      <td>6</td>\n      <td>1</td>\n      <td>1</td>\n      <td>2</td>\n      <td>1</td>\n      <td>3</td>\n    </tr>\n    <tr>\n      <th>1</th>\n      <td>2</td>\n      <td>0-5yrs</td>\n      <td>42</td>\n      <td>1</td>\n      <td>1</td>\n      <td>1</td>\n      <td>0</td>\n      <td>2</td>\n      <td>1</td>\n    </tr>\n    <tr>\n      <th>2</th>\n      <td>3</td>\n      <td>0-5yrs</td>\n      <td>39</td>\n      <td>6</td>\n      <td>2</td>\n      <td>1</td>\n      <td>0</td>\n      <td>3</td>\n      <td>4</td>\n    </tr>\n    <tr>\n      <th>3</th>\n      <td>4</td>\n      <td>0-5yrs</td>\n      <td>34</td>\n      <td>4</td>\n      <td>2</td>\n      <td>1</td>\n      <td>0</td>\n      <td>4</td>\n      <td>2</td>\n    </tr>\n    <tr>\n      <th>4</th>\n      <td>5</td>\n      <td>6-11yrs</td>\n      <td>35</td>\n      <td>3</td>\n      <td>1</td>\n      <td>1</td>\n      <td>1</td>\n      <td>5</td>\n      <td>32</td>\n    </tr>\n    <tr>\n      <th>...</th>\n      <td>...</td>\n      <td>...</td>\n      <td>...</td>\n      <td>...</td>\n      <td>...</td>\n      <td>...</td>\n      <td>...</td>\n      <td>...</td>\n      <td>...</td>\n    </tr>\n    <tr>\n      <th>243</th>\n      <td>244</td>\n      <td>12+ yrs</td>\n      <td>31</td>\n      <td>1</td>\n      <td>0</td>\n      <td>0</td>\n      <td>1</td>\n      <td>79</td>\n      <td>45</td>\n    </tr>\n    <tr>\n      <th>244</th>\n      <td>245</td>\n      <td>12+ yrs</td>\n      <td>34</td>\n      <td>1</td>\n      <td>0</td>\n      <td>0</td>\n      <td>0</td>\n      <td>80</td>\n      <td>47</td>\n    </tr>\n    <tr>\n      <th>245</th>\n      <td>246</td>\n      <td>12+ yrs</td>\n      <td>35</td>\n      <td>2</td>\n      <td>2</td>\n      <td>0</td>\n      <td>0</td>\n      <td>81</td>\n      <td>54</td>\n    </tr>\n    <tr>\n      <th>246</th>\n      <td>247</td>\n      <td>12+ yrs</td>\n      <td>29</td>\n      <td>1</td>\n      <td>0</td>\n      <td>0</td>\n      <td>1</td>\n      <td>82</td>\n      <td>43</td>\n    </tr>\n    <tr>\n      <th>247</th>\n      <td>248</td>\n      <td>12+ yrs</td>\n      <td>23</td>\n      <td>1</td>\n      <td>0</td>\n      <td>0</td>\n      <td>1</td>\n      <td>83</td>\n      <td>40</td>\n    </tr>\n  </tbody>\n</table>\n<p>248 rows × 9 columns</p>\n</div>"
     },
     "execution_count": 6,
     "metadata": {},
     "output_type": "execute_result"
    }
   ],
   "source": [
    "infert = pd.read_csv('../../Arquivos/infert.csv')\n",
    "infert"
   ],
   "metadata": {
    "collapsed": false,
    "pycharm": {
     "name": "#%%\n"
    }
   }
  },
  {
   "cell_type": "code",
   "execution_count": 16,
   "outputs": [
    {
     "data": {
      "text/plain": "248"
     },
     "execution_count": 16,
     "metadata": {},
     "output_type": "execute_result"
    }
   ],
   "source": [
    "infert['education'].value_counts()\n"
   ],
   "metadata": {
    "collapsed": false,
    "pycharm": {
     "name": "#%%\n"
    }
   }
  },
  {
   "cell_type": "code",
   "execution_count": 17,
   "outputs": [
    {
     "data": {
      "text/plain": "6-11yrs    48\n12+ yrs    46\n0-5yrs      5\nName: education, dtype: int64"
     },
     "execution_count": 17,
     "metadata": {},
     "output_type": "execute_result"
    }
   ],
   "source": [
    "x1, _, y1, _ = train_test_split(infert.iloc[:, 2:9], infert.iloc[:, 1],\n",
    "                              test_size= 0.6, stratify=infert.iloc[:,1])\n",
    "y1.value_counts()"
   ],
   "metadata": {
    "collapsed": false,
    "pycharm": {
     "name": "#%%\n"
    }
   }
  }
 ],
 "metadata": {
  "kernelspec": {
   "display_name": "Python 3",
   "language": "python",
   "name": "python3"
  },
  "language_info": {
   "codemirror_mode": {
    "name": "ipython",
    "version": 2
   },
   "file_extension": ".py",
   "mimetype": "text/x-python",
   "name": "python",
   "nbconvert_exporter": "python",
   "pygments_lexer": "ipython2",
   "version": "2.7.6"
  }
 },
 "nbformat": 4,
 "nbformat_minor": 0
}