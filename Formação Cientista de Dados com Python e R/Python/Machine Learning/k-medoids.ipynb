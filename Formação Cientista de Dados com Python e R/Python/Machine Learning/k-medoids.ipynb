{
 "cells": [
  {
   "cell_type": "code",
   "execution_count": 1,
   "metadata": {
    "collapsed": true,
    "pycharm": {
     "name": "#%%\n"
    }
   },
   "outputs": [],
   "source": [
    "from sklearn import datasets\n",
    "from sklearn.metrics import confusion_matrix\n",
    "import numpy as np\n",
    "from pyclustering.cluster.kmedoids import kmedoids\n",
    "from pyclustering.cluster import cluster_visualizer"
   ]
  },
  {
   "cell_type": "code",
   "execution_count": 2,
   "outputs": [],
   "source": [
    "iris = datasets.load_iris()"
   ],
   "metadata": {
    "collapsed": false,
    "pycharm": {
     "name": "#%%\n"
    }
   }
  },
  {
   "cell_type": "code",
   "execution_count": 3,
   "outputs": [
    {
     "data": {
      "text/plain": "[3, 12, 20]"
     },
     "execution_count": 3,
     "metadata": {},
     "output_type": "execute_result"
    }
   ],
   "source": [
    "# Configuração dos parâmetros do k-medoids, utilizando somente as duas primeiras colunas da base de dados por causa da visualização apenas\n",
    "# 3, 12 e 20 são índices aleatórios de registros da base de dados (inicialização)\n",
    "cluster = kmedoids(iris.data[:,0:2], [3,12,20])\n",
    "cluster.get_medoids()"
   ],
   "metadata": {
    "collapsed": false,
    "pycharm": {
     "name": "#%%\n"
    }
   }
  },
  {
   "cell_type": "code",
   "execution_count": 4,
   "outputs": [
    {
     "data": {
      "text/plain": "[[7,\n  0,\n  1,\n  2,\n  3,\n  4,\n  5,\n  6,\n  8,\n  9,\n  10,\n  11,\n  12,\n  13,\n  14,\n  15,\n  16,\n  17,\n  18,\n  19,\n  20,\n  21,\n  22,\n  23,\n  24,\n  25,\n  26,\n  27,\n  28,\n  29,\n  30,\n  31,\n  32,\n  33,\n  34,\n  35,\n  36,\n  37,\n  38,\n  39,\n  40,\n  41,\n  42,\n  43,\n  44,\n  45,\n  46,\n  47,\n  48,\n  49,\n  106],\n [67,\n  53,\n  55,\n  57,\n  59,\n  60,\n  61,\n  62,\n  63,\n  64,\n  66,\n  68,\n  69,\n  70,\n  71,\n  72,\n  73,\n  78,\n  79,\n  80,\n  81,\n  82,\n  83,\n  84,\n  85,\n  87,\n  88,\n  89,\n  90,\n  91,\n  92,\n  93,\n  94,\n  95,\n  96,\n  97,\n  98,\n  99,\n  101,\n  113,\n  114,\n  119,\n  121,\n  123,\n  126,\n  127,\n  133,\n  134,\n  138,\n  142,\n  146,\n  149],\n [112,\n  50,\n  51,\n  52,\n  54,\n  56,\n  58,\n  65,\n  74,\n  75,\n  76,\n  77,\n  86,\n  100,\n  102,\n  103,\n  104,\n  105,\n  107,\n  108,\n  109,\n  110,\n  111,\n  115,\n  116,\n  117,\n  118,\n  120,\n  122,\n  124,\n  125,\n  128,\n  129,\n  130,\n  131,\n  132,\n  135,\n  136,\n  137,\n  139,\n  140,\n  141,\n  143,\n  144,\n  145,\n  147,\n  148]]"
     },
     "execution_count": 4,
     "metadata": {},
     "output_type": "execute_result"
    }
   ],
   "source": [
    "#Aplicação do algoritimo para o agrupamento\n",
    "cluster.process()\n",
    "previsoes = cluster.get_clusters()\n",
    "medoides = cluster.get_medoids()\n",
    "#lista de 3 elementos, com os indices dos registros do cluster\n",
    "previsoes\n"
   ],
   "metadata": {
    "collapsed": false,
    "pycharm": {
     "name": "#%%\n"
    }
   }
  },
  {
   "cell_type": "code",
   "execution_count": 7,
   "outputs": [
    {
     "ename": "TypeError",
     "evalue": "append_cluster_attribute() missing 1 required positional argument: 'index_cluster'",
     "output_type": "error",
     "traceback": [
      "\u001B[1;31m---------------------------------------------------------------------------\u001B[0m",
      "\u001B[1;31mTypeError\u001B[0m                                 Traceback (most recent call last)",
      "\u001B[1;32m<ipython-input-7-c8685d2706ca>\u001B[0m in \u001B[0;36m<module>\u001B[1;34m\u001B[0m\n\u001B[0;32m      2\u001B[0m \u001B[0mv\u001B[0m \u001B[1;33m=\u001B[0m \u001B[0mcluster_visualizer\u001B[0m\u001B[1;33m(\u001B[0m\u001B[1;33m)\u001B[0m\u001B[1;33m\u001B[0m\u001B[1;33m\u001B[0m\u001B[0m\n\u001B[0;32m      3\u001B[0m \u001B[0mv\u001B[0m\u001B[1;33m.\u001B[0m\u001B[0mappend_clusters\u001B[0m\u001B[1;33m(\u001B[0m\u001B[0mprevisoes\u001B[0m\u001B[1;33m,\u001B[0m \u001B[0miris\u001B[0m\u001B[1;33m.\u001B[0m\u001B[0mdata\u001B[0m\u001B[1;33m[\u001B[0m\u001B[1;33m:\u001B[0m\u001B[1;33m,\u001B[0m\u001B[1;36m0\u001B[0m\u001B[1;33m:\u001B[0m\u001B[1;36m2\u001B[0m\u001B[1;33m]\u001B[0m\u001B[1;33m)\u001B[0m\u001B[1;33m\u001B[0m\u001B[1;33m\u001B[0m\u001B[0m\n\u001B[1;32m----> 4\u001B[1;33m \u001B[0mv\u001B[0m\u001B[1;33m.\u001B[0m\u001B[0mappend_cluster_attribute\u001B[0m\u001B[1;33m(\u001B[0m\u001B[0mmedoides\u001B[0m\u001B[1;33m,\u001B[0m \u001B[0mdata\u001B[0m\u001B[1;33m=\u001B[0m\u001B[0miris\u001B[0m\u001B[1;33m.\u001B[0m\u001B[0mdata\u001B[0m\u001B[1;33m[\u001B[0m\u001B[1;33m:\u001B[0m\u001B[1;33m,\u001B[0m\u001B[1;36m0\u001B[0m\u001B[1;33m:\u001B[0m\u001B[1;36m2\u001B[0m\u001B[1;33m]\u001B[0m\u001B[1;33m,\u001B[0m \u001B[0mmarker\u001B[0m\u001B[1;33m=\u001B[0m\u001B[1;34m\"*\"\u001B[0m\u001B[1;33m,\u001B[0m \u001B[0mmarkersize\u001B[0m\u001B[1;33m=\u001B[0m\u001B[1;36m20\u001B[0m\u001B[1;33m)\u001B[0m\u001B[1;33m\u001B[0m\u001B[1;33m\u001B[0m\u001B[0m\n\u001B[0m\u001B[0;32m      5\u001B[0m \u001B[0mv\u001B[0m\u001B[1;33m.\u001B[0m\u001B[0mshow\u001B[0m\u001B[1;33m(\u001B[0m\u001B[1;33m)\u001B[0m\u001B[1;33m\u001B[0m\u001B[1;33m\u001B[0m\u001B[0m\n",
      "\u001B[1;31mTypeError\u001B[0m: append_cluster_attribute() missing 1 required positional argument: 'index_cluster'"
     ]
    }
   ],
   "source": [
    "#visualização do agrupamento\n",
    "v = cluster_visualizer()\n",
    "v.append_clusters(previsoes, iris.data[:,0:2])\n",
    "v.append_cluster_attribute(medoides, data=iris.data[:,0:2], marker=\"*\", markersize=20)\n",
    "v.show()"
   ],
   "metadata": {
    "collapsed": false,
    "pycharm": {
     "name": "#%%\n"
    }
   }
  },
  {
   "cell_type": "code",
   "execution_count": 9,
   "outputs": [],
   "source": [
    "# Código para criar duas listas, uma com os grupos reais da base de dados e outra com os valores dos grupos\n",
    "# Utilizado posteriormente para visualização da matriz de contingência\n",
    "\n",
    "lista_previsoes = []\n",
    "lista_real = []\n",
    "for i in range(len(previsoes)):\n",
    "    for j in range(len(previsoes[i])):\n",
    "        lista_previsoes.append(i)\n",
    "        lista_real.append(iris.target[previsoes[i][j]])"
   ],
   "metadata": {
    "collapsed": false,
    "pycharm": {
     "name": "#%%\n"
    }
   }
  },
  {
   "cell_type": "code",
   "execution_count": 10,
   "outputs": [
    {
     "data": {
      "text/plain": "array([[50,  0,  0],\n       [ 0, 38, 12],\n       [ 1, 14, 35]], dtype=int64)"
     },
     "execution_count": 10,
     "metadata": {},
     "output_type": "execute_result"
    }
   ],
   "source": [
    "# Geração da matriz de contingência, comparando os grupos reais com os grupos previstos\n",
    "lista_previsoes = np.asarray(lista_previsoes)\n",
    "lista_real = np.asarray(lista_real)\n",
    "resultados = confusion_matrix(lista_real, lista_previsoes)\n",
    "resultados\n"
   ],
   "metadata": {
    "collapsed": false,
    "pycharm": {
     "name": "#%%\n"
    }
   }
  }
 ],
 "metadata": {
  "kernelspec": {
   "display_name": "Python 3",
   "language": "python",
   "name": "python3"
  },
  "language_info": {
   "codemirror_mode": {
    "name": "ipython",
    "version": 2
   },
   "file_extension": ".py",
   "mimetype": "text/x-python",
   "name": "python",
   "nbconvert_exporter": "python",
   "pygments_lexer": "ipython2",
   "version": "2.7.6"
  }
 },
 "nbformat": 4,
 "nbformat_minor": 0
}