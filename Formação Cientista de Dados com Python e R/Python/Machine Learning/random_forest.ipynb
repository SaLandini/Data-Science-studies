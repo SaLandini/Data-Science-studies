{
 "cells": [
  {
   "cell_type": "code",
   "execution_count": 1,
   "metadata": {
    "collapsed": true
   },
   "outputs": [],
   "source": [
    "import pandas as pd\n",
    "from sklearn.model_selection import train_test_split\n",
    "from sklearn.preprocessing import LabelEncoder\n",
    "from sklearn.metrics import confusion_matrix, accuracy_score\n",
    "from sklearn.ensemble import RandomForestClassifier"
   ]
  },
  {
   "cell_type": "code",
   "execution_count": 2,
   "outputs": [
    {
     "data": {
      "text/plain": "  checking_status  duration                    credit_history  \\\n0              <0         6  'critical/other existing credit'   \n1        0<=X<200        48                   'existing paid'   \n2   'no checking'        12  'critical/other existing credit'   \n3              <0        42                   'existing paid'   \n4              <0        24              'delayed previously'   \n\n               purpose  credit_amount      savings_status employment  \\\n0             radio/tv           1169  'no known savings'        >=7   \n1             radio/tv           5951                <100     1<=X<4   \n2            education           2096                <100     4<=X<7   \n3  furniture/equipment           7882                <100     4<=X<7   \n4            'new car'           4870                <100     1<=X<4   \n\n   installment_commitment       personal_status other_parties  ...  \\\n0                       4         'male single'          none  ...   \n1                       2  'female div/dep/mar'          none  ...   \n2                       2         'male single'          none  ...   \n3                       2         'male single'     guarantor  ...   \n4                       3         'male single'          none  ...   \n\n    property_magnitude age  other_payment_plans     housing existing_credits  \\\n0        'real estate'  67                 none         own                2   \n1        'real estate'  22                 none         own                1   \n2        'real estate'  49                 none         own                1   \n3     'life insurance'  45                 none  'for free'                1   \n4  'no known property'  53                 none  'for free'                2   \n\n                    job num_dependents  own_telephone foreign_worker class  \n0               skilled              1            yes            yes  good  \n1               skilled              1           none            yes   bad  \n2  'unskilled resident'              2           none            yes  good  \n3               skilled              2           none            yes  good  \n4               skilled              2           none            yes   bad  \n\n[5 rows x 21 columns]",
      "text/html": "<div>\n<style scoped>\n    .dataframe tbody tr th:only-of-type {\n        vertical-align: middle;\n    }\n\n    .dataframe tbody tr th {\n        vertical-align: top;\n    }\n\n    .dataframe thead th {\n        text-align: right;\n    }\n</style>\n<table border=\"1\" class=\"dataframe\">\n  <thead>\n    <tr style=\"text-align: right;\">\n      <th></th>\n      <th>checking_status</th>\n      <th>duration</th>\n      <th>credit_history</th>\n      <th>purpose</th>\n      <th>credit_amount</th>\n      <th>savings_status</th>\n      <th>employment</th>\n      <th>installment_commitment</th>\n      <th>personal_status</th>\n      <th>other_parties</th>\n      <th>...</th>\n      <th>property_magnitude</th>\n      <th>age</th>\n      <th>other_payment_plans</th>\n      <th>housing</th>\n      <th>existing_credits</th>\n      <th>job</th>\n      <th>num_dependents</th>\n      <th>own_telephone</th>\n      <th>foreign_worker</th>\n      <th>class</th>\n    </tr>\n  </thead>\n  <tbody>\n    <tr>\n      <th>0</th>\n      <td>&lt;0</td>\n      <td>6</td>\n      <td>'critical/other existing credit'</td>\n      <td>radio/tv</td>\n      <td>1169</td>\n      <td>'no known savings'</td>\n      <td>&gt;=7</td>\n      <td>4</td>\n      <td>'male single'</td>\n      <td>none</td>\n      <td>...</td>\n      <td>'real estate'</td>\n      <td>67</td>\n      <td>none</td>\n      <td>own</td>\n      <td>2</td>\n      <td>skilled</td>\n      <td>1</td>\n      <td>yes</td>\n      <td>yes</td>\n      <td>good</td>\n    </tr>\n    <tr>\n      <th>1</th>\n      <td>0&lt;=X&lt;200</td>\n      <td>48</td>\n      <td>'existing paid'</td>\n      <td>radio/tv</td>\n      <td>5951</td>\n      <td>&lt;100</td>\n      <td>1&lt;=X&lt;4</td>\n      <td>2</td>\n      <td>'female div/dep/mar'</td>\n      <td>none</td>\n      <td>...</td>\n      <td>'real estate'</td>\n      <td>22</td>\n      <td>none</td>\n      <td>own</td>\n      <td>1</td>\n      <td>skilled</td>\n      <td>1</td>\n      <td>none</td>\n      <td>yes</td>\n      <td>bad</td>\n    </tr>\n    <tr>\n      <th>2</th>\n      <td>'no checking'</td>\n      <td>12</td>\n      <td>'critical/other existing credit'</td>\n      <td>education</td>\n      <td>2096</td>\n      <td>&lt;100</td>\n      <td>4&lt;=X&lt;7</td>\n      <td>2</td>\n      <td>'male single'</td>\n      <td>none</td>\n      <td>...</td>\n      <td>'real estate'</td>\n      <td>49</td>\n      <td>none</td>\n      <td>own</td>\n      <td>1</td>\n      <td>'unskilled resident'</td>\n      <td>2</td>\n      <td>none</td>\n      <td>yes</td>\n      <td>good</td>\n    </tr>\n    <tr>\n      <th>3</th>\n      <td>&lt;0</td>\n      <td>42</td>\n      <td>'existing paid'</td>\n      <td>furniture/equipment</td>\n      <td>7882</td>\n      <td>&lt;100</td>\n      <td>4&lt;=X&lt;7</td>\n      <td>2</td>\n      <td>'male single'</td>\n      <td>guarantor</td>\n      <td>...</td>\n      <td>'life insurance'</td>\n      <td>45</td>\n      <td>none</td>\n      <td>'for free'</td>\n      <td>1</td>\n      <td>skilled</td>\n      <td>2</td>\n      <td>none</td>\n      <td>yes</td>\n      <td>good</td>\n    </tr>\n    <tr>\n      <th>4</th>\n      <td>&lt;0</td>\n      <td>24</td>\n      <td>'delayed previously'</td>\n      <td>'new car'</td>\n      <td>4870</td>\n      <td>&lt;100</td>\n      <td>1&lt;=X&lt;4</td>\n      <td>3</td>\n      <td>'male single'</td>\n      <td>none</td>\n      <td>...</td>\n      <td>'no known property'</td>\n      <td>53</td>\n      <td>none</td>\n      <td>'for free'</td>\n      <td>2</td>\n      <td>skilled</td>\n      <td>2</td>\n      <td>none</td>\n      <td>yes</td>\n      <td>bad</td>\n    </tr>\n  </tbody>\n</table>\n<p>5 rows × 21 columns</p>\n</div>"
     },
     "execution_count": 2,
     "metadata": {},
     "output_type": "execute_result"
    }
   ],
   "source": [
    "credito = pd.read_csv('../../Arquivos/Credit.csv')\n",
    "credito.head()"
   ],
   "metadata": {
    "collapsed": false,
    "pycharm": {
     "name": "#%%\n"
    }
   }
  },
  {
   "cell_type": "code",
   "execution_count": 3,
   "outputs": [],
   "source": [
    "previsores = credito.iloc[:,0:20].values\n",
    "classe = credito.iloc[:,20].values"
   ],
   "metadata": {
    "collapsed": false,
    "pycharm": {
     "name": "#%%\n"
    }
   }
  },
  {
   "cell_type": "code",
   "execution_count": 4,
   "outputs": [],
   "source": [
    "# Transformação dos atributos categóricos em atributos numéricos, passando o índice de cada atributo categórico\n",
    "labelencoder = LabelEncoder()\n",
    "previsores[:,0] = labelencoder.fit_transform(previsores[:,0])\n",
    "previsores[:,2] = labelencoder.fit_transform(previsores[:,2])\n",
    "previsores[:, 3] = labelencoder.fit_transform(previsores[:, 3])\n",
    "previsores[:, 5] = labelencoder.fit_transform(previsores[:, 5])\n",
    "previsores[:, 6] = labelencoder.fit_transform(previsores[:, 6])\n",
    "previsores[:, 8] = labelencoder.fit_transform(previsores[:, 8])\n",
    "previsores[:, 9] = labelencoder.fit_transform(previsores[:, 9])\n",
    "previsores[:, 11] = labelencoder.fit_transform(previsores[:, 11])\n",
    "previsores[:, 13] = labelencoder.fit_transform(previsores[:, 13])\n",
    "previsores[:, 14] = labelencoder.fit_transform(previsores[:, 14])\n",
    "previsores[:, 16] = labelencoder.fit_transform(previsores[:, 16])\n",
    "previsores[:, 18] = labelencoder.fit_transform(previsores[:, 18])\n",
    "previsores[:, 19] = labelencoder.fit_transform(previsores[:, 19])"
   ],
   "metadata": {
    "collapsed": false,
    "pycharm": {
     "name": "#%%\n"
    }
   }
  },
  {
   "cell_type": "code",
   "execution_count": 5,
   "outputs": [],
   "source": [
    "# Divisão da base de dados entre treinamento e teste (30% para testar e 70% para treinar)\n",
    "X_treinamento, X_teste, y_treinamento, y_teste = train_test_split(previsores,\n",
    "                                                                  classe,\n",
    "                                                                  test_size = 0.3,\n",
    "                                                                  random_state = 0)"
   ],
   "metadata": {
    "collapsed": false,
    "pycharm": {
     "name": "#%%\n"
    }
   }
  },
  {
   "cell_type": "code",
   "execution_count": 6,
   "outputs": [
    {
     "data": {
      "text/plain": "RandomForestClassifier()"
     },
     "execution_count": 6,
     "metadata": {},
     "output_type": "execute_result"
    }
   ],
   "source": [
    "#criação do modelo, treinamento, obtenção das previsões e da taxa de acerto\n",
    "florest = RandomForestClassifier(n_estimators=100)\n",
    "florest.fit(X_treinamento,y_treinamento)"
   ],
   "metadata": {
    "collapsed": false,
    "pycharm": {
     "name": "#%%\n"
    }
   }
  },
  {
   "cell_type": "code",
   "execution_count": 9,
   "outputs": [
    {
     "data": {
      "text/plain": "[DecisionTreeClassifier(max_features='auto', random_state=168631328),\n DecisionTreeClassifier(max_features='auto', random_state=740442801),\n DecisionTreeClassifier(max_features='auto', random_state=1948355490),\n DecisionTreeClassifier(max_features='auto', random_state=1336988455),\n DecisionTreeClassifier(max_features='auto', random_state=2056808432),\n DecisionTreeClassifier(max_features='auto', random_state=1708150881),\n DecisionTreeClassifier(max_features='auto', random_state=803992765),\n DecisionTreeClassifier(max_features='auto', random_state=130774402),\n DecisionTreeClassifier(max_features='auto', random_state=1104766251),\n DecisionTreeClassifier(max_features='auto', random_state=1610986223),\n DecisionTreeClassifier(max_features='auto', random_state=1632225665),\n DecisionTreeClassifier(max_features='auto', random_state=1462976192),\n DecisionTreeClassifier(max_features='auto', random_state=1189350915),\n DecisionTreeClassifier(max_features='auto', random_state=1557155918),\n DecisionTreeClassifier(max_features='auto', random_state=2079044728),\n DecisionTreeClassifier(max_features='auto', random_state=826783658),\n DecisionTreeClassifier(max_features='auto', random_state=1978899748),\n DecisionTreeClassifier(max_features='auto', random_state=131531124),\n DecisionTreeClassifier(max_features='auto', random_state=1942198542),\n DecisionTreeClassifier(max_features='auto', random_state=417694841),\n DecisionTreeClassifier(max_features='auto', random_state=1551450735),\n DecisionTreeClassifier(max_features='auto', random_state=1468216101),\n DecisionTreeClassifier(max_features='auto', random_state=1911107992),\n DecisionTreeClassifier(max_features='auto', random_state=1363984730),\n DecisionTreeClassifier(max_features='auto', random_state=1859024779),\n DecisionTreeClassifier(max_features='auto', random_state=1979292876),\n DecisionTreeClassifier(max_features='auto', random_state=1015689966),\n DecisionTreeClassifier(max_features='auto', random_state=1279142552),\n DecisionTreeClassifier(max_features='auto', random_state=938544705),\n DecisionTreeClassifier(max_features='auto', random_state=471835050),\n DecisionTreeClassifier(max_features='auto', random_state=2136081801),\n DecisionTreeClassifier(max_features='auto', random_state=1725711839),\n DecisionTreeClassifier(max_features='auto', random_state=1944278282),\n DecisionTreeClassifier(max_features='auto', random_state=1411320480),\n DecisionTreeClassifier(max_features='auto', random_state=2147244597),\n DecisionTreeClassifier(max_features='auto', random_state=1812462705),\n DecisionTreeClassifier(max_features='auto', random_state=896258761),\n DecisionTreeClassifier(max_features='auto', random_state=979419426),\n DecisionTreeClassifier(max_features='auto', random_state=2123784535),\n DecisionTreeClassifier(max_features='auto', random_state=972454206),\n DecisionTreeClassifier(max_features='auto', random_state=2001707797),\n DecisionTreeClassifier(max_features='auto', random_state=707706059),\n DecisionTreeClassifier(max_features='auto', random_state=1408236353),\n DecisionTreeClassifier(max_features='auto', random_state=1178300212),\n DecisionTreeClassifier(max_features='auto', random_state=283809305),\n DecisionTreeClassifier(max_features='auto', random_state=435399591),\n DecisionTreeClassifier(max_features='auto', random_state=1439946078),\n DecisionTreeClassifier(max_features='auto', random_state=1982479875),\n DecisionTreeClassifier(max_features='auto', random_state=1833352173),\n DecisionTreeClassifier(max_features='auto', random_state=2055102053),\n DecisionTreeClassifier(max_features='auto', random_state=242696466),\n DecisionTreeClassifier(max_features='auto', random_state=2033116076),\n DecisionTreeClassifier(max_features='auto', random_state=1396281134),\n DecisionTreeClassifier(max_features='auto', random_state=2133723562),\n DecisionTreeClassifier(max_features='auto', random_state=1031298710),\n DecisionTreeClassifier(max_features='auto', random_state=2099525767),\n DecisionTreeClassifier(max_features='auto', random_state=733098346),\n DecisionTreeClassifier(max_features='auto', random_state=1382766325),\n DecisionTreeClassifier(max_features='auto', random_state=846568207),\n DecisionTreeClassifier(max_features='auto', random_state=1861968962),\n DecisionTreeClassifier(max_features='auto', random_state=1032613368),\n DecisionTreeClassifier(max_features='auto', random_state=1925322619),\n DecisionTreeClassifier(max_features='auto', random_state=614468944),\n DecisionTreeClassifier(max_features='auto', random_state=882526991),\n DecisionTreeClassifier(max_features='auto', random_state=739217199),\n DecisionTreeClassifier(max_features='auto', random_state=1367309551),\n DecisionTreeClassifier(max_features='auto', random_state=1222616813),\n DecisionTreeClassifier(max_features='auto', random_state=1316122448),\n DecisionTreeClassifier(max_features='auto', random_state=1418356249),\n DecisionTreeClassifier(max_features='auto', random_state=55293033),\n DecisionTreeClassifier(max_features='auto', random_state=1188448530),\n DecisionTreeClassifier(max_features='auto', random_state=211165082),\n DecisionTreeClassifier(max_features='auto', random_state=323518210),\n DecisionTreeClassifier(max_features='auto', random_state=1763896599),\n DecisionTreeClassifier(max_features='auto', random_state=124376877),\n DecisionTreeClassifier(max_features='auto', random_state=292140189),\n DecisionTreeClassifier(max_features='auto', random_state=2123688252),\n DecisionTreeClassifier(max_features='auto', random_state=675562831),\n DecisionTreeClassifier(max_features='auto', random_state=1979849836),\n DecisionTreeClassifier(max_features='auto', random_state=1719275627),\n DecisionTreeClassifier(max_features='auto', random_state=1288689885),\n DecisionTreeClassifier(max_features='auto', random_state=1705207508),\n DecisionTreeClassifier(max_features='auto', random_state=1589713483),\n DecisionTreeClassifier(max_features='auto', random_state=531802084),\n DecisionTreeClassifier(max_features='auto', random_state=325643033),\n DecisionTreeClassifier(max_features='auto', random_state=772763615),\n DecisionTreeClassifier(max_features='auto', random_state=1039393366),\n DecisionTreeClassifier(max_features='auto', random_state=406753348),\n DecisionTreeClassifier(max_features='auto', random_state=696888862),\n DecisionTreeClassifier(max_features='auto', random_state=1838601063),\n DecisionTreeClassifier(max_features='auto', random_state=678635138),\n DecisionTreeClassifier(max_features='auto', random_state=612603184),\n DecisionTreeClassifier(max_features='auto', random_state=21767181),\n DecisionTreeClassifier(max_features='auto', random_state=1384394510),\n DecisionTreeClassifier(max_features='auto', random_state=189709492),\n DecisionTreeClassifier(max_features='auto', random_state=1684161924),\n DecisionTreeClassifier(max_features='auto', random_state=1354598169),\n DecisionTreeClassifier(max_features='auto', random_state=316596405),\n DecisionTreeClassifier(max_features='auto', random_state=509907319),\n DecisionTreeClassifier(max_features='auto', random_state=1406190182)]"
     },
     "execution_count": 9,
     "metadata": {},
     "output_type": "execute_result"
    }
   ],
   "source": [
    "#visualização dos principais atributos\n",
    "florest.estimators_"
   ],
   "metadata": {
    "collapsed": false,
    "pycharm": {
     "name": "#%%\n"
    }
   }
  },
  {
   "cell_type": "code",
   "execution_count": 10,
   "outputs": [
    {
     "data": {
      "text/plain": "0.7733333333333333"
     },
     "execution_count": 10,
     "metadata": {},
     "output_type": "execute_result"
    }
   ],
   "source": [
    "previsoes = florest.predict(X_teste)\n",
    "confusao = confusion_matrix(y_teste, previsoes)\n",
    "taxa_acerto = accuracy_score(y_teste, previsoes)\n",
    "taxa_acerto\n"
   ],
   "metadata": {
    "collapsed": false,
    "pycharm": {
     "name": "#%%\n"
    }
   }
  }
 ],
 "metadata": {
  "kernelspec": {
   "display_name": "Python 3",
   "language": "python",
   "name": "python3"
  },
  "language_info": {
   "codemirror_mode": {
    "name": "ipython",
    "version": 2
   },
   "file_extension": ".py",
   "mimetype": "text/x-python",
   "name": "python",
   "nbconvert_exporter": "python",
   "pygments_lexer": "ipython2",
   "version": "2.7.6"
  }
 },
 "nbformat": 4,
 "nbformat_minor": 0
}